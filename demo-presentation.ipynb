{
 "cells": [
  {
   "cell_type": "code",
   "execution_count": 1,
   "metadata": {},
   "outputs": [],
   "source": [
    "import arxiv"
   ]
  },
  {
   "cell_type": "code",
   "execution_count": 2,
   "metadata": {},
   "outputs": [
    {
     "name": "stdout",
     "output_type": "stream",
     "text": [
      "+-------------+---------------+--------------------+-----------+\n",
      "|     Author_1|       Author_2|         Paper Title|   Arxiv ID|\n",
      "+-------------+---------------+--------------------+-----------+\n",
      "|Peter Freeman|Larry Wasserman|Estimating the di...|1406.7536v1|\n",
      "|Peter Freeman|Larry Wasserman|Functional Regres...|1404.3168v1|\n",
      "+-------------+---------------+--------------------+-----------+\n",
      "\n",
      "+------------------+------------------+--------------------+------------+\n",
      "|          Author_1|          Author_2|         Paper Title|    Arxiv ID|\n",
      "+------------------+------------------+--------------------+------------+\n",
      "|Alessandro Rinaldo|   Larry Wasserman|Distribution-Free...|1604.04173v2|\n",
      "|Alessandro Rinaldo|   Larry Wasserman|Statistical Infer...|1605.06416v3|\n",
      "|Alessandro Rinaldo|   Larry Wasserman|Statistical Analy...|1510.02502v1|\n",
      "|Alessandro Rinaldo|   Larry Wasserman|Stability of Dens...| 1011.2771v1|\n",
      "|Alessandro Rinaldo|   Larry Wasserman|Distribution-Free...| 1302.0082v1|\n",
      "|   Larry Wasserman|Alessandro Rinaldo|Estimating Undire...| 1309.6933v1|\n",
      "|Alessandro Rinaldo|   Larry Wasserman|Tight Lower Bound...| 1307.7666v1|\n",
      "|Alessandro Rinaldo|   Larry Wasserman|Generalized densi...| 0907.3454v3|\n",
      "|Alessandro Rinaldo|   Larry Wasserman|Uniform Asymptoti...|1506.06266v3|\n",
      "|Alessandro Rinaldo|   Larry Wasserman|Bootstrapping and...|1611.05401v2|\n",
      "|Alessandro Rinaldo|   Larry Wasserman|Uniform Convergen...|1810.05935v2|\n",
      "|Alessandro Rinaldo|   Larry Wasserman|On the Bootstrap ...| 1311.0376v2|\n",
      "|Alessandro Rinaldo|   Larry Wasserman|Subsampling Metho...| 1406.1901v1|\n",
      "|Alessandro Rinaldo|   Larry Wasserman|Random Differenti...| 1112.2680v1|\n",
      "|Alessandro Rinaldo|   Larry Wasserman|Minimax Rates for...| 1112.5627v1|\n",
      "|Alessandro Rinaldo|   Larry Wasserman|Differential Priv...| 1203.2570v1|\n",
      "|Alessandro Rinaldo|   Larry Wasserman|A Conformal Predi...| 1302.6452v1|\n",
      "|Alessandro Rinaldo|   Larry Wasserman|Cluster Trees on ...| 1307.6515v1|\n",
      "|Alessandro Rinaldo|   Larry Wasserman|Confidence sets f...| 1303.7117v3|\n",
      "|Alessandro Rinaldo|   Larry Wasserman|Stochastic Conver...| 1312.0308v1|\n",
      "+------------------+------------------+--------------------+------------+\n",
      "only showing top 20 rows\n",
      "\n",
      "+------------------+------------------+--------------------+------------+\n",
      "|          Author_1|          Author_2|         Paper Title|    Arxiv ID|\n",
      "+------------------+------------------+--------------------+------------+\n",
      "|    Kayvan Sadeghi|Alessandro Rinaldo|Markov Properties...|1810.02294v2|\n",
      "|    Kayvan Sadeghi|Alessandro Rinaldo|Hierarchical Mode...|1605.04565v1|\n",
      "|    Kayvan Sadeghi|Alessandro Rinaldo|Statistical Model...| 1411.3825v1|\n",
      "|Alessandro Rinaldo|    Kayvan Sadeghi|Random Networks, ...|1701.08420v2|\n",
      "|Alessandro Rinaldo|    Kayvan Sadeghi|On Exchangeabilit...|1709.03885v2|\n",
      "|    Kayvan Sadeghi|Alessandro Rinaldo|$β$ models for ra...| 1407.1004v1|\n",
      "+------------------+------------------+--------------------+------------+\n",
      "\n",
      "Distance:  3\n"
     ]
    }
   ],
   "source": [
    "arxiv.dist(\"Peter Freeman\", \"Kayvan Sadeghi\", depth_max = 4)"
   ]
  },
  {
   "cell_type": "code",
   "execution_count": 7,
   "metadata": {},
   "outputs": [
    {
     "name": "stdout",
     "output_type": "stream",
     "text": [
      "+---------------+---------------+--------------------+------------+\n",
      "|       Author_1|       Author_2|         Paper Title|    Arxiv ID|\n",
      "+---------------+---------------+--------------------+------------+\n",
      "|    Aarti Singh|Larry Wasserman|On the Decreasing...| 1406.2083v2|\n",
      "|    Aarti Singh|Larry Wasserman|Stability of Dens...| 1011.2771v1|\n",
      "|    Aarti Singh|Larry Wasserman|Adaptive Semisupe...| 1111.6410v2|\n",
      "|    Aarti Singh|Larry Wasserman|Density-sensitive...| 1204.1685v2|\n",
      "|    Aarti Singh|Larry Wasserman|Distribution-Free...| 1302.0082v1|\n",
      "|    Aarti Singh|Larry Wasserman|Minimax Theory fo...| 1306.2035v1|\n",
      "|    Aarti Singh|Larry Wasserman|Efficient Sparse ...| 1406.2206v1|\n",
      "|Larry Wasserman|    Aarti Singh|Feature Selection...| 1406.2240v1|\n",
      "|    Aarti Singh|Larry Wasserman|Tight Lower Bound...| 1307.7666v1|\n",
      "|    Aarti Singh|Larry Wasserman|Risk Bounds For M...|1505.00482v1|\n",
      "|    Aarti Singh|Larry Wasserman|Classification Ac...|1602.02210v1|\n",
      "|    Aarti Singh|Larry Wasserman|An Analysis of Ac...|1505.04215v1|\n",
      "|    Aarti Singh|Larry Wasserman|Adaptivity and Co...|1508.00655v1|\n",
      "|    Aarti Singh|Larry Wasserman|On the High-dimen...| 1411.6314v1|\n",
      "|    Aarti Singh|Larry Wasserman|Minimax Lower Bou...|1601.06259v1|\n",
      "|    Aarti Singh|Larry Wasserman|On the Bootstrap ...| 1311.0376v2|\n",
      "|    Aarti Singh|Larry Wasserman|Minimax Rates for...| 1112.5627v1|\n",
      "|    Aarti Singh|Larry Wasserman|Cluster Trees on ...| 1307.6515v1|\n",
      "|Larry Wasserman|    Aarti Singh|Confidence sets f...| 1303.7117v3|\n",
      "+---------------+---------------+--------------------+------------+\n",
      "\n",
      "+--------------------+-----------+--------------------+------------+\n",
      "|            Author_1|   Author_2|         Paper Title|    Arxiv ID|\n",
      "+--------------------+-----------+--------------------+------------+\n",
      "|Ruslan Salakhutdinov|Aarti Singh|How Many Samples ...|1805.07883v2|\n",
      "+--------------------+-----------+--------------------+------------+\n",
      "\n",
      "Distance:  2\n"
     ]
    }
   ],
   "source": [
    "arxiv.dist(\"Larry Wasserman\", \"Ruslan Salakhutdinov\", depth_max = 4)"
   ]
  },
  {
   "cell_type": "code",
   "execution_count": 6,
   "metadata": {},
   "outputs": [
    {
     "name": "stdout",
     "output_type": "stream",
     "text": [
      "+--------------------+--------------------+--------------------+------------+\n",
      "|            Author_1|            Author_2|         Paper Title|    Arxiv ID|\n",
      "+--------------------+--------------------+--------------------+------------+\n",
      "|Sivaraman Balakri...|Martin J. Wainwright|Statistical guara...| 1408.2156v1|\n",
      "|Sivaraman Balakri...|Martin J. Wainwright|Statistical and C...|1512.08269v1|\n",
      "|Sivaraman Balakri...|Martin J. Wainwright|Estimation from P...|1505.01462v1|\n",
      "|Sivaraman Balakri...|Martin J. Wainwright|Stochastically Tr...|1510.05610v4|\n",
      "|Sivaraman Balakri...|Martin J. Wainwright|Local Maxima in t...|1609.00978v1|\n",
      "|Sivaraman Balakri...|Martin J. Wainwright|Low Permutation-r...|1709.00127v1|\n",
      "|Sivaraman Balakri...|Martin J. Wainwright|A Permutation-bas...|1606.09632v1|\n",
      "|Sivaraman Balakri...|Martin J. Wainwright|Feeling the Bern:...|1603.06881v1|\n",
      "+--------------------+--------------------+--------------------+------------+\n",
      "\n",
      "+---------------+--------------------+--------------------+-----------+\n",
      "|       Author_1|            Author_2|         Paper Title|   Arxiv ID|\n",
      "+---------------+--------------------+--------------------+-----------+\n",
      "|Sahand Negahban|Martin J. Wainwright|Estimation of (ne...|0912.5100v1|\n",
      "|Sahand Negahban|Martin J. Wainwright|Restricted strong...|1009.2118v2|\n",
      "|Sahand Negahban|Martin J. Wainwright|Stochastic optimi...|1207.4421v1|\n",
      "+---------------+--------------------+--------------------+-----------+\n",
      "\n",
      "+----------+---------------+--------------------+------------+\n",
      "|  Author_1|       Author_2|         Paper Title|    Arxiv ID|\n",
      "+----------+---------------+--------------------+------------+\n",
      "|Addison Hu|Sahand Negahban|Minimax Estimatio...|1710.07006v1|\n",
      "+----------+---------------+--------------------+------------+\n",
      "\n",
      "Distance:  3\n"
     ]
    }
   ],
   "source": [
    "arxiv.dist(\"Sivaraman Balakrishnan\", \"Addison Hu\", depth_max = 5)"
   ]
  },
  {
   "cell_type": "code",
   "execution_count": null,
   "metadata": {},
   "outputs": [],
   "source": []
  }
 ],
 "metadata": {
  "kernelspec": {
   "display_name": "Python 3",
   "language": "python",
   "name": "python3"
  },
  "language_info": {
   "codemirror_mode": {
    "name": "ipython",
    "version": 3
   },
   "file_extension": ".py",
   "mimetype": "text/x-python",
   "name": "python",
   "nbconvert_exporter": "python",
   "pygments_lexer": "ipython3",
   "version": "3.6.5"
  }
 },
 "nbformat": 4,
 "nbformat_minor": 2
}
