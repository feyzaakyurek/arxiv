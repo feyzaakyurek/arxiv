{
 "cells": [
  {
   "cell_type": "markdown",
   "metadata": {},
   "source": [
    "## Querying data from Arxiv API\n",
    "\n",
    "Atom parsing code in this notebook is mostly taken from the sample code on Arxiv API [documentation](https://arxiv.org/help/api/examples/python_arXiv_parsing_example.txt).  "
   ]
  },
  {
   "cell_type": "code",
   "execution_count": 78,
   "metadata": {},
   "outputs": [],
   "source": [
    "import urllib.request\n",
    "import feedparser\n",
    "from pyspark.sql import Row"
   ]
  },
  {
   "cell_type": "code",
   "execution_count": 40,
   "metadata": {},
   "outputs": [],
   "source": [
    "def query_arxiv(search_query, start, max_results):\n",
    "    base_url = 'http://export.arxiv.org/api/query?'\n",
    "\n",
    "    query = 'search_query=%s&start=%i&max_results=%i' % (search_query,\n",
    "                                                         start,\n",
    "                                                         max_results)\n",
    "    # perform a GET request using the base_url and query\n",
    "    response = urllib.request.urlopen(base_url+query).read()\n",
    "\n",
    "    # parse the response using feedparser\n",
    "    feed = feedparser.parse(response)\n",
    "\n",
    "    return feed"
   ]
  },
  {
   "cell_type": "code",
   "execution_count": 73,
   "metadata": {},
   "outputs": [],
   "source": [
    "def read_authors(entry_authors, author_list):\n",
    "    for name in (author.name for author in entry_authors):\n",
    "        # maybe consider case insensitive comparing\n",
    "        if name not in map(lambda t: t[1], author_list):\n",
    "            author_list.append((len(author_list),name))        "
   ]
  },
  {
   "cell_type": "code",
   "execution_count": 81,
   "metadata": {},
   "outputs": [],
   "source": [
    "def create_df(author_list):\n",
    "    rdd = sc.parallelize(author_list)\n",
    "    author_table = rdd.map(lambda x: Row(id=int(x[0]), name=x[1]))\n",
    "    author_schema = sqlContext.createDataFrame(author_table)\n",
    "    return author_schema\n",
    "    print(\"\", type(author_schema))"
   ]
  },
  {
   "cell_type": "code",
   "execution_count": 82,
   "metadata": {},
   "outputs": [],
   "source": [
    "def main():\n",
    "    # Search parameters\n",
    "    search_query = 'au:%22daphne+koller%22'\n",
    "    start = 0\n",
    "    max_results = 5\n",
    "    \n",
    "    feed = query_arxiv(search_query, start, max_results)\n",
    "    \n",
    "    author_list = []\n",
    "    paper_list = []\n",
    "    \n",
    "    for entry in feed.entries:\n",
    "        read_authors(entry.authors, author_list)\n",
    "        \n",
    "    print(\"Author List (ID, Name):\", author_list)\n",
    "    author_schema = create_df(author_list) "
   ]
  },
  {
   "cell_type": "code",
   "execution_count": 83,
   "metadata": {},
   "outputs": [
    {
     "name": "stdout",
     "output_type": "stream",
     "text": [
      "Author List: [(0, 'M. Pawan Kumar'), (1, 'Daphne Koller'), (2, 'Marc Teyssier'), (3, 'Urszula Chajewska'), (4, 'Nir Friedman'), (5, 'Ron Parr')]\n",
      "<class 'pyspark.sql.dataframe.DataFrame'>\n"
     ]
    }
   ],
   "source": [
    "main()"
   ]
  },
  {
   "cell_type": "code",
   "execution_count": null,
   "metadata": {},
   "outputs": [],
   "source": []
  }
 ],
 "metadata": {
  "kernelspec": {
   "display_name": "Python 3",
   "language": "python",
   "name": "python3"
  },
  "language_info": {
   "codemirror_mode": {
    "name": "ipython",
    "version": 3
   },
   "file_extension": ".py",
   "mimetype": "text/x-python",
   "name": "python",
   "nbconvert_exporter": "python",
   "pygments_lexer": "ipython3",
   "version": "3.6.5"
  }
 },
 "nbformat": 4,
 "nbformat_minor": 2
}
