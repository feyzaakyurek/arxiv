{
 "cells": [
  {
   "cell_type": "markdown",
   "metadata": {},
   "source": [
    "## Querying data from Arxiv API\n",
    "\n",
    "Atom parsing code in this notebook is mostly taken from the sample code on Arxiv API [documentation](https://arxiv.org/help/api/examples/python_arXiv_parsing_example.txt).  "
   ]
  },
  {
   "cell_type": "code",
   "execution_count": 2,
   "metadata": {},
   "outputs": [],
   "source": [
    "import urllib.request\n",
    "import feedparser\n",
    "from itertools import combinations\n",
    "from pyspark.sql import Row\n",
    "from pyspark.sql.types import *"
   ]
  },
  {
   "cell_type": "code",
   "execution_count": 17,
   "metadata": {},
   "outputs": [],
   "source": [
    "def query_arxiv(search_query, start, max_results = -1):\n",
    "    base_url = 'http://export.arxiv.org/api/query?'\n",
    "    query = 'search_query=%s&start=%i%s' % (search_query,\n",
    "                                          start,\n",
    "                                          \"\" if max_results == -1 else (\"&max_results=%i\"% max_results))\n",
    "    # perform a GET request using the base_url and query\n",
    "    response = urllib.request.urlopen(base_url+query).read()\n",
    "\n",
    "    # parse the response using feedparser\n",
    "    feed = feedparser.parse(response)\n",
    "\n",
    "    return feed"
   ]
  },
  {
   "cell_type": "code",
   "execution_count": 4,
   "metadata": {},
   "outputs": [],
   "source": [
    "def read_authors(feed):\n",
    "    author_list = []\n",
    "    for entry in feed.entries:\n",
    "        for name in (author.name for author in entry.authors):\n",
    "            # maybe consider case insensitive comparing\n",
    "            if name not in map(lambda t: t[1], author_list):\n",
    "                author_list.append((len(author_list),name))        \n",
    "    return author_list"
   ]
  },
  {
   "cell_type": "code",
   "execution_count": 5,
   "metadata": {},
   "outputs": [],
   "source": [
    "def read_collabs(feed):\n",
    "    collab_list = []\n",
    "    for entry in feed.entries:\n",
    "        title = entry.title\n",
    "        arxiv_id = entry.id.split('/abs/')[-1]\n",
    "        authors = (author.name for author in entry.authors)\n",
    "        for a1,a2 in combinations(authors,2):\n",
    "            collab_list.append((find_id(a1,author_list),find_id(a2,author_list),arxiv_id,title))     \n",
    "    return collab_list"
   ]
  },
  {
   "cell_type": "code",
   "execution_count": 6,
   "metadata": {},
   "outputs": [],
   "source": [
    "def find_id(a, author_list):\n",
    "    return [y[1] for y in author_list].index(a)"
   ]
  },
  {
   "cell_type": "code",
   "execution_count": 7,
   "metadata": {},
   "outputs": [],
   "source": [
    "def create_df(l, schema):\n",
    "    rdd = sc.parallelize(l)\n",
    "    return spark.createDataFrame(rdd,schema)"
   ]
  },
  {
   "cell_type": "markdown",
   "metadata": {},
   "source": [
    "### Querying Arxiv API"
   ]
  },
  {
   "cell_type": "code",
   "execution_count": 20,
   "metadata": {},
   "outputs": [
    {
     "name": "stdout",
     "output_type": "stream",
     "text": [
      "&max_results=2000\n",
      "Feed last updated: 2019-02-10T00:00:00-05:00\n",
      "Total results for this query: 22672\n",
      "Max results for this query: 2000\n"
     ]
    }
   ],
   "source": [
    "# Query parameters\n",
    "# search_query = 'au:%22daphne+koller%22'\n",
    "search_query = 'cat:stat.ML'\n",
    "start = 0\n",
    "max_results = 2000\n",
    "\n",
    "# Querying the Arxiv API\n",
    "feed = query_arxiv(search_query, start, max_results) \n",
    "print('Feed last updated: %s' % feed.feed.updated)\n",
    "print('Total results for this query: %s' % feed.feed.opensearch_totalresults)\n",
    "print('Max results for this query: %s' % len(feed.entries))"
   ]
  },
  {
   "cell_type": "code",
   "execution_count": 23,
   "metadata": {},
   "outputs": [
    {
     "data": {
      "text/plain": [
       "[Row(id=0, name='Marten Wegkamp'),\n",
       " Row(id=1, name='Bharath K. Sriperumbudur'),\n",
       " Row(id=2, name='Gert R. G. Lanckriet'),\n",
       " Row(id=3, name='Patrick Erik Bradley'),\n",
       " Row(id=4, name='Roberto C. Alamino'),\n",
       " Row(id=5, name='Nestor Caticha'),\n",
       " Row(id=6, name='Yen-Jen Oyang'),\n",
       " Row(id=7, name='Darby Tien-Hao Chang'),\n",
       " Row(id=8, name='Yu-Yen Ou'),\n",
       " Row(id=9, name='Hao-Geng Hung')]"
      ]
     },
     "execution_count": 23,
     "metadata": {},
     "output_type": "execute_result"
    }
   ],
   "source": [
    "# Create a data frame for unique authors <AuthorID, AuthorName>\n",
    "author_list = read_authors(feed)\n",
    "schema = StructType([\n",
    "        StructField(\"id\", IntegerType(), True),\n",
    "        StructField(\"name\", StringType(), True)\n",
    "    ])\n",
    "author_df = create_df(author_list, schema)\n",
    "author_df.filter(author_df.id  < 10).collect()\n",
    "# author_df.collect()"
   ]
  },
  {
   "cell_type": "code",
   "execution_count": 25,
   "metadata": {},
   "outputs": [
    {
     "data": {
      "text/plain": [
       "[Row(id=90, name='Larry Wasserman')]"
      ]
     },
     "execution_count": 25,
     "metadata": {},
     "output_type": "execute_result"
    }
   ],
   "source": [
    "author_df.filter(author_df.name == \"Larry Wasserman\").collect()"
   ]
  },
  {
   "cell_type": "code",
   "execution_count": 26,
   "metadata": {},
   "outputs": [],
   "source": [
    "# Create a data frame for collaborations <Author1ID, Author2ID, PaperArxivID, PaperTitle>\n",
    "collab_list = read_collabs(feed)\n",
    "schema = StructType([\n",
    "        StructField(\"src\", IntegerType(), True),\n",
    "        StructField(\"dest\", IntegerType(), True),\n",
    "        StructField(\"arxiv\", StringType(), True),\n",
    "        StructField(\"title\", StringType(), True)\n",
    "    ])\n",
    "collab_df = create_df(collab_list, schema)\n",
    "# collab_df.collect()"
   ]
  },
  {
   "cell_type": "markdown",
   "metadata": {},
   "source": [
    "### Save Author  and Collab Dataframes to Disk"
   ]
  },
  {
   "cell_type": "code",
   "execution_count": 27,
   "metadata": {},
   "outputs": [],
   "source": [
    "author_df.write.mode('overwrite').parquet(\"Data/authors-%s.parquet\" % search_query)\n",
    "collab_df.write.mode('overwrite').parquet(\"Data/collab-%s.parquet\" % search_query)"
   ]
  },
  {
   "cell_type": "code",
   "execution_count": 120,
   "metadata": {},
   "outputs": [
    {
     "data": {
      "text/html": [
       "\n",
       "        <div>\n",
       "            <p><b>SparkContext</b></p>\n",
       "\n",
       "            <p><a href=\"http://feyza.wv.cc.cmu.edu:4040\">Spark UI</a></p>\n",
       "\n",
       "            <dl>\n",
       "              <dt>Version</dt>\n",
       "                <dd><code>v2.4.0</code></dd>\n",
       "              <dt>Master</dt>\n",
       "                <dd><code>local[*]</code></dd>\n",
       "              <dt>AppName</dt>\n",
       "                <dd><code>PySparkShell</code></dd>\n",
       "            </dl>\n",
       "        </div>\n",
       "        "
      ],
      "text/plain": [
       "<SparkContext master=local[*] appName=PySparkShell>"
      ]
     },
     "execution_count": 120,
     "metadata": {},
     "output_type": "execute_result"
    }
   ],
   "source": [
    "spark.sparkContext"
   ]
  },
  {
   "cell_type": "code",
   "execution_count": null,
   "metadata": {},
   "outputs": [],
   "source": []
  }
 ],
 "metadata": {
  "kernelspec": {
   "display_name": "Python 3",
   "language": "python",
   "name": "python3"
  },
  "language_info": {
   "codemirror_mode": {
    "name": "ipython",
    "version": 3
   },
   "file_extension": ".py",
   "mimetype": "text/x-python",
   "name": "python",
   "nbconvert_exporter": "python",
   "pygments_lexer": "ipython3",
   "version": "3.6.5"
  }
 },
 "nbformat": 4,
 "nbformat_minor": 2
}
